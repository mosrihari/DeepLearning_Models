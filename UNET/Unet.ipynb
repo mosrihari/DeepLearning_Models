{
  "nbformat": 4,
  "nbformat_minor": 0,
  "metadata": {
    "accelerator": "GPU",
    "colab": {
      "name": "Unet.ipynb",
      "provenance": [],
      "collapsed_sections": []
    },
    "kernelspec": {
      "display_name": "Python 3",
      "name": "python3"
    },
    "language_info": {
      "name": "python"
    }
  },
  "cells": [
    {
      "cell_type": "markdown",
      "metadata": {
        "id": "ZAx16T_GEtRe"
      },
      "source": [
        "# Data Preparation"
      ]
    },
    {
      "cell_type": "code",
      "metadata": {
        "colab": {
          "base_uri": "https://localhost:8080/"
        },
        "id": "jYalb9BhE30Q",
        "outputId": "e2035221-3702-47dc-fbb5-d56323bb948f"
      },
      "source": [
        "from google.colab import drive\n",
        "drive.mount('/content/drive')"
      ],
      "execution_count": 1,
      "outputs": [
        {
          "output_type": "stream",
          "text": [
            "Mounted at /content/drive\n"
          ],
          "name": "stdout"
        }
      ]
    },
    {
      "cell_type": "code",
      "metadata": {
        "id": "d3cZIk78FEUn"
      },
      "source": [
        "TRAIN_PATH = \"/content/drive/MyDrive/DeepLearning_Models/UNET /data/stage1_train/stage1_train.zip (Unzipped Files)\"\n",
        "TEST_PATH = \"/content/drive/MyDrive/DeepLearning_Models/UNET /data/stage1_test/stage1_test.zip (Unzipped Files)\""
      ],
      "execution_count": 4,
      "outputs": []
    },
    {
      "cell_type": "code",
      "metadata": {
        "id": "Qzzgiy7cG9ug"
      },
      "source": [
        "import os\n",
        "import cv2\n",
        "from tqdm.notebook import tqdm\n",
        "import numpy as np\n",
        "from skimage.io import imread\n",
        "from skimage.transform import resize"
      ],
      "execution_count": 5,
      "outputs": []
    },
    {
      "cell_type": "markdown",
      "metadata": {
        "id": "Nnxw05tqaK-w"
      },
      "source": [
        "# Data Gen"
      ]
    },
    {
      "cell_type": "code",
      "metadata": {
        "id": "sbUzL1jAaml4"
      },
      "source": [
        "import tensorflow as tf"
      ],
      "execution_count": 8,
      "outputs": []
    },
    {
      "cell_type": "code",
      "metadata": {
        "id": "eVPaCTOHaM3F"
      },
      "source": [
        "class DataGen(tf.keras.utils.Sequence):\n",
        "    def __init__(self, ids, path, batch_size=8, image_size=128):\n",
        "        self.ids = ids\n",
        "        self.path = path\n",
        "        self.batch_size = batch_size\n",
        "        self.image_size = image_size\n",
        "        self.on_epoch_end()\n",
        "        \n",
        "    def __load__(self, id_name):\n",
        "        ## Path\n",
        "        image_path = os.path.join(self.path, id_name, \"images\", id_name) + \".png\"\n",
        "        mask_path = os.path.join(self.path, id_name, \"masks/\")\n",
        "        all_masks = os.listdir(mask_path)\n",
        "        \n",
        "        ## Reading Image\n",
        "        image = cv2.imread(image_path, 1)\n",
        "        image = cv2.resize(image, (self.image_size, self.image_size))\n",
        "        \n",
        "        mask = np.zeros((self.image_size, self.image_size, 1))\n",
        "        \n",
        "        ## Reading Masks\n",
        "        for name in all_masks:\n",
        "            _mask_path = mask_path + name\n",
        "            _mask_image = cv2.imread(_mask_path, -1)\n",
        "            _mask_image = cv2.resize(_mask_image, (self.image_size, self.image_size)) #128x128\n",
        "            _mask_image = np.expand_dims(_mask_image, axis=-1)\n",
        "            mask = np.maximum(mask, _mask_image)\n",
        "            \n",
        "        ## Normalizaing \n",
        "        image = image/255.0\n",
        "        mask = mask/255.0\n",
        "        \n",
        "        return image, mask\n",
        "    \n",
        "    def __getitem__(self, index):\n",
        "        if(index+1)*self.batch_size > len(self.ids):\n",
        "            self.batch_size = len(self.ids) - index*self.batch_size\n",
        "        \n",
        "        files_batch = self.ids[index*self.batch_size : (index+1)*self.batch_size]\n",
        "        \n",
        "        image = []\n",
        "        mask  = []\n",
        "        \n",
        "        for id_name in files_batch:\n",
        "            _img, _mask = self.__load__(id_name)\n",
        "            image.append(_img)\n",
        "            mask.append(_mask)\n",
        "            \n",
        "        image = np.array(image)\n",
        "        mask  = np.array(mask)\n",
        "        \n",
        "        return image, mask\n",
        "    \n",
        "    def on_epoch_end(self):\n",
        "        pass\n",
        "    \n",
        "    def __len__(self):\n",
        "        return int(np.ceil(len(self.ids)/float(self.batch_size)))"
      ],
      "execution_count": 9,
      "outputs": []
    },
    {
      "cell_type": "code",
      "metadata": {
        "id": "7xs8RclOapVk"
      },
      "source": [
        "image_size = 128\n",
        "epochs = 5\n",
        "batch_size = 8\n",
        "\n",
        "## Training Ids\n",
        "train_ids = next(os.walk(TRAIN_PATH))[1]\n",
        "\n",
        "## Validation Data Size\n",
        "val_data_size = 10\n",
        "\n",
        "valid_ids = train_ids[:val_data_size]\n",
        "train_ids = train_ids[val_data_size:]"
      ],
      "execution_count": 10,
      "outputs": []
    },
    {
      "cell_type": "code",
      "metadata": {
        "colab": {
          "base_uri": "https://localhost:8080/"
        },
        "id": "mklQ02QFavxH",
        "outputId": "f87b76a0-e165-4d4e-9cff-a13b12c18c10"
      },
      "source": [
        "gen = DataGen(train_ids, TRAIN_PATH, batch_size=batch_size, image_size=image_size)\n",
        "x, y = gen.__getitem__(0)\n",
        "print(x.shape, y.shape)"
      ],
      "execution_count": 12,
      "outputs": [
        {
          "output_type": "stream",
          "text": [
            "(8, 128, 128, 3) (8, 128, 128, 1)\n"
          ],
          "name": "stdout"
        }
      ]
    },
    {
      "cell_type": "markdown",
      "metadata": {
        "id": "c8H_S5udEtqN"
      },
      "source": [
        "# Model"
      ]
    },
    {
      "cell_type": "code",
      "metadata": {
        "id": "cftER2h8I5yv"
      },
      "source": [
        "import tensorflow as tf\n",
        "from tensorflow.keras.layers import Conv2D, MaxPooling2D, Conv2DTranspose, \\\n",
        "                                    Input, Concatenate, Lambda, Dropout\n",
        "from tensorflow.keras.models import Model\n",
        "from tensorflow.keras.optimizers import Adam"
      ],
      "execution_count": 15,
      "outputs": []
    },
    {
      "cell_type": "markdown",
      "metadata": {
        "id": "hE0ZLwSPJ69W"
      },
      "source": [
        "![Unet architecture.png](data:image/png;base64,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)"
      ]
    },
    {
      "cell_type": "code",
      "metadata": {
        "id": "i4hOok-1krsM"
      },
      "source": [
        ""
      ],
      "execution_count": null,
      "outputs": []
    },
    {
      "cell_type": "code",
      "metadata": {
        "id": "UN0RiaUBKCEg"
      },
      "source": [
        "input = Input((128,128,3), name='input')\n",
        "x = Lambda(lambda x: x / 255)(input)\n",
        "\n",
        "# Encoder Block  (filters custom - 16, 32, 64, 128, 256)\n",
        "c1 = Conv2D(16, (3,3), padding=\"same\", activation=\"relu\", name=\"conv1_1\")(x)\n",
        "c1 = Dropout(0.2)(c1)\n",
        "c1 = Conv2D(16, (3,3), padding=\"same\", activation=\"relu\", name=\"conv1_2\")(c1)\n",
        "\n",
        "c2 = MaxPooling2D((2,2), padding=\"same\", name=\"pool1_1\")(c1)\n",
        "c2 = Conv2D(32, (3,3), padding=\"same\", activation=\"relu\", name=\"conv2_1\")(c2)\n",
        "c2 = Dropout(0.2)(c2)\n",
        "c2 = Conv2D(32, (3,3), padding=\"same\", activation=\"relu\", name=\"conv2_2\")(c2)\n",
        "\n",
        "c3 = MaxPooling2D((2,2), padding=\"same\",name=\"pool2_1\")(c2)\n",
        "c3 = Conv2D(64, (3,3), padding=\"same\", activation=\"relu\", name=\"conv3_1\")(c3)\n",
        "c3 = Dropout(0.2)(c3)\n",
        "c3 = Conv2D(64, (3,3), padding=\"same\", activation=\"relu\",name=\"conv3_2\")(c3)\n",
        "\n",
        "c4 = MaxPooling2D((2,2), padding=\"same\",name=\"pool3_1\")(c3)\n",
        "c4 = Conv2D(128, (3,3), padding=\"same\", activation=\"relu\",name=\"conv4_1\")(c4)\n",
        "c4 = Dropout(0.2)(c4)\n",
        "c4 = Conv2D(128, (3,3), padding=\"same\", activation=\"relu\",name=\"conv4_2\")(c4)\n",
        "\n",
        "c5 = MaxPooling2D((2,2), padding=\"same\",name=\"pool4_1\")(c4)\n",
        "c5 = Conv2D(256, (3,3), padding=\"same\", activation=\"relu\",name=\"conv5_1\")(c5)\n",
        "c5 = Dropout(0.2)(c5)\n",
        "c5 = Conv2D(256, (3,3), padding=\"same\", activation=\"relu\",name=\"conv5_2\")(c5)\n",
        "\n",
        "# Decoder block (128, 64, 32, 16)\n",
        "u1 = Conv2DTranspose(128, (3,3), padding=\"same\",strides=(2,2))(c5)\n",
        "u1 = Concatenate(axis=3)([u1, c4])\n",
        "u1 = Conv2D(128, (3,3), padding=\"same\", activation=\"relu\")(u1)\n",
        "u1 = Dropout(0.2)(u1)\n",
        "u1 = Conv2D(128, (3,3), padding=\"same\",activation=\"relu\")(u1)\n",
        "\n",
        "u2 = Conv2DTranspose(64, (3,3), padding=\"same\",strides=(2,2))(u1)\n",
        "u2 = Concatenate(axis=3)([u2, c3])\n",
        "u2 = Conv2D(64, (3,3), padding=\"same\",activation=\"relu\")(u2)\n",
        "u2 = Dropout(0.2)(u2)\n",
        "u2 = Conv2D(64, (3,3), padding=\"same\",activation=\"relu\")(u2)\n",
        "\n",
        "u3 = Conv2DTranspose(32, (3,3), padding=\"same\", strides=(2,2))(u2)\n",
        "u3 = Concatenate(axis=3)([u3, c2])\n",
        "u3 = Conv2D(32, (3,3), padding=\"same\",activation=\"relu\")(u3)\n",
        "u3 = Dropout(0.2)(u3)\n",
        "u3 = Conv2D(32, (3,3), padding=\"same\",activation=\"relu\")(u3)\n",
        "\n",
        "u4 = Conv2DTranspose(16, (3,3), padding=\"same\", strides=(2,2))(u3)\n",
        "u4 = Concatenate(axis=3)([u4, c1])\n",
        "u4 = Conv2D(16, (3,3), padding=\"same\",activation=\"relu\")(u4)\n",
        "u4 = Dropout(0.2)(u4)\n",
        "u4 = Conv2D(16, (3,3), padding=\"same\",activation=\"relu\")(u4)\n",
        "\n",
        "output = Conv2D(1, (1,1), padding=\"same\")(u4)\n",
        "\n",
        "model = Model(inputs=[input], outputs=[output])\n"
      ],
      "execution_count": null,
      "outputs": []
    },
    {
      "cell_type": "code",
      "metadata": {
        "id": "BcyKEAIROtKM"
      },
      "source": [
        "model.compile(optimizer=\"adam\",loss=\"binary_crossentropy\",metrics=['accuracy'])"
      ],
      "execution_count": null,
      "outputs": []
    },
    {
      "cell_type": "code",
      "metadata": {
        "colab": {
          "base_uri": "https://localhost:8080/"
        },
        "id": "_BE7dOOWUFiC",
        "outputId": "5ad8af81-2801-4093-82ff-53dc626454a1"
      },
      "source": [
        "model.summary()"
      ],
      "execution_count": null,
      "outputs": [
        {
          "output_type": "stream",
          "text": [
            "Model: \"model_2\"\n",
            "__________________________________________________________________________________________________\n",
            "Layer (type)                    Output Shape         Param #     Connected to                     \n",
            "==================================================================================================\n",
            "input (InputLayer)              [(None, 128, 128, 3) 0                                            \n",
            "__________________________________________________________________________________________________\n",
            "lambda_2 (Lambda)               (None, 128, 128, 3)  0           input[0][0]                      \n",
            "__________________________________________________________________________________________________\n",
            "conv1_1 (Conv2D)                (None, 128, 128, 16) 448         lambda_2[0][0]                   \n",
            "__________________________________________________________________________________________________\n",
            "dropout_18 (Dropout)            (None, 128, 128, 16) 0           conv1_1[0][0]                    \n",
            "__________________________________________________________________________________________________\n",
            "conv1_2 (Conv2D)                (None, 128, 128, 16) 2320        dropout_18[0][0]                 \n",
            "__________________________________________________________________________________________________\n",
            "pool1_1 (MaxPooling2D)          (None, 64, 64, 16)   0           conv1_2[0][0]                    \n",
            "__________________________________________________________________________________________________\n",
            "conv2_1 (Conv2D)                (None, 64, 64, 32)   4640        pool1_1[0][0]                    \n",
            "__________________________________________________________________________________________________\n",
            "dropout_19 (Dropout)            (None, 64, 64, 32)   0           conv2_1[0][0]                    \n",
            "__________________________________________________________________________________________________\n",
            "conv2_2 (Conv2D)                (None, 64, 64, 32)   9248        dropout_19[0][0]                 \n",
            "__________________________________________________________________________________________________\n",
            "pool2_1 (MaxPooling2D)          (None, 32, 32, 32)   0           conv2_2[0][0]                    \n",
            "__________________________________________________________________________________________________\n",
            "conv3_1 (Conv2D)                (None, 32, 32, 64)   18496       pool2_1[0][0]                    \n",
            "__________________________________________________________________________________________________\n",
            "dropout_20 (Dropout)            (None, 32, 32, 64)   0           conv3_1[0][0]                    \n",
            "__________________________________________________________________________________________________\n",
            "conv3_2 (Conv2D)                (None, 32, 32, 64)   36928       dropout_20[0][0]                 \n",
            "__________________________________________________________________________________________________\n",
            "pool3_1 (MaxPooling2D)          (None, 16, 16, 64)   0           conv3_2[0][0]                    \n",
            "__________________________________________________________________________________________________\n",
            "conv4_1 (Conv2D)                (None, 16, 16, 128)  73856       pool3_1[0][0]                    \n",
            "__________________________________________________________________________________________________\n",
            "dropout_21 (Dropout)            (None, 16, 16, 128)  0           conv4_1[0][0]                    \n",
            "__________________________________________________________________________________________________\n",
            "conv4_2 (Conv2D)                (None, 16, 16, 128)  147584      dropout_21[0][0]                 \n",
            "__________________________________________________________________________________________________\n",
            "pool4_1 (MaxPooling2D)          (None, 8, 8, 128)    0           conv4_2[0][0]                    \n",
            "__________________________________________________________________________________________________\n",
            "conv5_1 (Conv2D)                (None, 8, 8, 256)    295168      pool4_1[0][0]                    \n",
            "__________________________________________________________________________________________________\n",
            "dropout_22 (Dropout)            (None, 8, 8, 256)    0           conv5_1[0][0]                    \n",
            "__________________________________________________________________________________________________\n",
            "conv5_2 (Conv2D)                (None, 8, 8, 256)    590080      dropout_22[0][0]                 \n",
            "__________________________________________________________________________________________________\n",
            "conv2d_transpose_8 (Conv2DTrans (None, 16, 16, 128)  295040      conv5_2[0][0]                    \n",
            "__________________________________________________________________________________________________\n",
            "concatenate_8 (Concatenate)     (None, 16, 16, 256)  0           conv2d_transpose_8[0][0]         \n",
            "                                                                 conv4_2[0][0]                    \n",
            "__________________________________________________________________________________________________\n",
            "conv2d_18 (Conv2D)              (None, 16, 16, 128)  295040      concatenate_8[0][0]              \n",
            "__________________________________________________________________________________________________\n",
            "dropout_23 (Dropout)            (None, 16, 16, 128)  0           conv2d_18[0][0]                  \n",
            "__________________________________________________________________________________________________\n",
            "conv2d_19 (Conv2D)              (None, 16, 16, 128)  147584      dropout_23[0][0]                 \n",
            "__________________________________________________________________________________________________\n",
            "conv2d_transpose_9 (Conv2DTrans (None, 32, 32, 64)   73792       conv2d_19[0][0]                  \n",
            "__________________________________________________________________________________________________\n",
            "concatenate_9 (Concatenate)     (None, 32, 32, 128)  0           conv2d_transpose_9[0][0]         \n",
            "                                                                 conv3_2[0][0]                    \n",
            "__________________________________________________________________________________________________\n",
            "conv2d_20 (Conv2D)              (None, 32, 32, 64)   73792       concatenate_9[0][0]              \n",
            "__________________________________________________________________________________________________\n",
            "dropout_24 (Dropout)            (None, 32, 32, 64)   0           conv2d_20[0][0]                  \n",
            "__________________________________________________________________________________________________\n",
            "conv2d_21 (Conv2D)              (None, 32, 32, 64)   36928       dropout_24[0][0]                 \n",
            "__________________________________________________________________________________________________\n",
            "conv2d_transpose_10 (Conv2DTran (None, 64, 64, 32)   18464       conv2d_21[0][0]                  \n",
            "__________________________________________________________________________________________________\n",
            "concatenate_10 (Concatenate)    (None, 64, 64, 64)   0           conv2d_transpose_10[0][0]        \n",
            "                                                                 conv2_2[0][0]                    \n",
            "__________________________________________________________________________________________________\n",
            "conv2d_22 (Conv2D)              (None, 64, 64, 32)   18464       concatenate_10[0][0]             \n",
            "__________________________________________________________________________________________________\n",
            "dropout_25 (Dropout)            (None, 64, 64, 32)   0           conv2d_22[0][0]                  \n",
            "__________________________________________________________________________________________________\n",
            "conv2d_23 (Conv2D)              (None, 64, 64, 32)   9248        dropout_25[0][0]                 \n",
            "__________________________________________________________________________________________________\n",
            "conv2d_transpose_11 (Conv2DTran (None, 128, 128, 16) 4624        conv2d_23[0][0]                  \n",
            "__________________________________________________________________________________________________\n",
            "concatenate_11 (Concatenate)    (None, 128, 128, 32) 0           conv2d_transpose_11[0][0]        \n",
            "                                                                 conv1_2[0][0]                    \n",
            "__________________________________________________________________________________________________\n",
            "conv2d_24 (Conv2D)              (None, 128, 128, 16) 4624        concatenate_11[0][0]             \n",
            "__________________________________________________________________________________________________\n",
            "dropout_26 (Dropout)            (None, 128, 128, 16) 0           conv2d_24[0][0]                  \n",
            "__________________________________________________________________________________________________\n",
            "conv2d_25 (Conv2D)              (None, 128, 128, 16) 2320        dropout_26[0][0]                 \n",
            "__________________________________________________________________________________________________\n",
            "conv2d_26 (Conv2D)              (None, 128, 128, 1)  17          conv2d_25[0][0]                  \n",
            "==================================================================================================\n",
            "Total params: 2,158,705\n",
            "Trainable params: 2,158,705\n",
            "Non-trainable params: 0\n",
            "__________________________________________________________________________________________________\n"
          ],
          "name": "stdout"
        }
      ]
    },
    {
      "cell_type": "code",
      "metadata": {
        "id": "ToBP2r2OwIR_"
      },
      "source": [
        "xtrain = X_train / 255.0\n",
        "ytrain = y_train / 255.0\n",
        "xtest = X_test / 255.0"
      ],
      "execution_count": null,
      "outputs": []
    },
    {
      "cell_type": "code",
      "metadata": {
        "colab": {
          "base_uri": "https://localhost:8080/"
        },
        "id": "bxnAPgogqdG8",
        "outputId": "323d2070-4300-49d5-b5bc-9a878c911ebe"
      },
      "source": [
        "\n",
        "#Build the model\n",
        "inputs = tf.keras.layers.Input((128, 128, 3))\n",
        "#s = tf.keras.layers.Lambda(lambda x: x / 255)(inputs)\n",
        "\n",
        "#Contraction path\n",
        "c1 = tf.keras.layers.Conv2D(16, (3, 3), activation='relu', kernel_initializer='he_normal', padding='same')(inputs)\n",
        "c1 = tf.keras.layers.Dropout(0.1)(c1)\n",
        "c1 = tf.keras.layers.Conv2D(16, (3, 3), activation='relu', kernel_initializer='he_normal', padding='same')(c1)\n",
        "p1 = tf.keras.layers.MaxPooling2D((2, 2))(c1)\n",
        "\n",
        "c2 = tf.keras.layers.Conv2D(32, (3, 3), activation='relu', kernel_initializer='he_normal', padding='same')(p1)\n",
        "c2 = tf.keras.layers.Dropout(0.1)(c2)\n",
        "c2 = tf.keras.layers.Conv2D(32, (3, 3), activation='relu', kernel_initializer='he_normal', padding='same')(c2)\n",
        "p2 = tf.keras.layers.MaxPooling2D((2, 2))(c2)\n",
        " \n",
        "c3 = tf.keras.layers.Conv2D(64, (3, 3), activation='relu', kernel_initializer='he_normal', padding='same')(p2)\n",
        "c3 = tf.keras.layers.Dropout(0.2)(c3)\n",
        "c3 = tf.keras.layers.Conv2D(64, (3, 3), activation='relu', kernel_initializer='he_normal', padding='same')(c3)\n",
        "p3 = tf.keras.layers.MaxPooling2D((2, 2))(c3)\n",
        " \n",
        "c4 = tf.keras.layers.Conv2D(128, (3, 3), activation='relu', kernel_initializer='he_normal', padding='same')(p3)\n",
        "c4 = tf.keras.layers.Dropout(0.2)(c4)\n",
        "c4 = tf.keras.layers.Conv2D(128, (3, 3), activation='relu', kernel_initializer='he_normal', padding='same')(c4)\n",
        "p4 = tf.keras.layers.MaxPooling2D(pool_size=(2, 2))(c4)\n",
        " \n",
        "c5 = tf.keras.layers.Conv2D(256, (3, 3), activation='relu', kernel_initializer='he_normal', padding='same')(p4)\n",
        "c5 = tf.keras.layers.Dropout(0.3)(c5)\n",
        "c5 = tf.keras.layers.Conv2D(256, (3, 3), activation='relu', kernel_initializer='he_normal', padding='same')(c5)\n",
        "\n",
        "#Expansive path \n",
        "u6 = tf.keras.layers.Conv2DTranspose(128, (2, 2), strides=(2, 2), padding='same')(c5)\n",
        "u6 = tf.keras.layers.concatenate([u6, c4])\n",
        "c6 = tf.keras.layers.Conv2D(128, (3, 3), activation='relu', kernel_initializer='he_normal', padding='same')(u6)\n",
        "c6 = tf.keras.layers.Dropout(0.2)(c6)\n",
        "c6 = tf.keras.layers.Conv2D(128, (3, 3), activation='relu', kernel_initializer='he_normal', padding='same')(c6)\n",
        " \n",
        "u7 = tf.keras.layers.Conv2DTranspose(64, (2, 2), strides=(2, 2), padding='same')(c6)\n",
        "u7 = tf.keras.layers.concatenate([u7, c3])\n",
        "c7 = tf.keras.layers.Conv2D(64, (3, 3), activation='relu', kernel_initializer='he_normal', padding='same')(u7)\n",
        "c7 = tf.keras.layers.Dropout(0.2)(c7)\n",
        "c7 = tf.keras.layers.Conv2D(64, (3, 3), activation='relu', kernel_initializer='he_normal', padding='same')(c7)\n",
        " \n",
        "u8 = tf.keras.layers.Conv2DTranspose(32, (2, 2), strides=(2, 2), padding='same')(c7)\n",
        "u8 = tf.keras.layers.concatenate([u8, c2])\n",
        "c8 = tf.keras.layers.Conv2D(32, (3, 3), activation='relu', kernel_initializer='he_normal', padding='same')(u8)\n",
        "c8 = tf.keras.layers.Dropout(0.1)(c8)\n",
        "c8 = tf.keras.layers.Conv2D(32, (3, 3), activation='relu', kernel_initializer='he_normal', padding='same')(c8)\n",
        " \n",
        "u9 = tf.keras.layers.Conv2DTranspose(16, (2, 2), strides=(2, 2), padding='same')(c8)\n",
        "u9 = tf.keras.layers.concatenate([u9, c1], axis=3)\n",
        "c9 = tf.keras.layers.Conv2D(16, (3, 3), activation='relu', kernel_initializer='he_normal', padding='same')(u9)\n",
        "c9 = tf.keras.layers.Dropout(0.1)(c9)\n",
        "c9 = tf.keras.layers.Conv2D(16, (3, 3), activation='relu', kernel_initializer='he_normal', padding='same')(c9)\n",
        " \n",
        "outputs = tf.keras.layers.Conv2D(1, (1, 1), activation='sigmoid')(c9)\n",
        " \n",
        "model = tf.keras.Model(inputs=[inputs], outputs=[outputs])\n",
        "\n",
        "opt = tf.keras.optimizers.Adam(learning_rate=0.001)\n",
        "model.compile(optimizer=opt, loss='binary_crossentropy', metrics=['accuracy'])\n",
        "model.summary()"
      ],
      "execution_count": 17,
      "outputs": [
        {
          "output_type": "stream",
          "text": [
            "Model: \"model\"\n",
            "__________________________________________________________________________________________________\n",
            "Layer (type)                    Output Shape         Param #     Connected to                     \n",
            "==================================================================================================\n",
            "input_3 (InputLayer)            [(None, 128, 128, 3) 0                                            \n",
            "__________________________________________________________________________________________________\n",
            "conv2d_2 (Conv2D)               (None, 128, 128, 16) 448         input_3[0][0]                    \n",
            "__________________________________________________________________________________________________\n",
            "dropout (Dropout)               (None, 128, 128, 16) 0           conv2d_2[0][0]                   \n",
            "__________________________________________________________________________________________________\n",
            "conv2d_3 (Conv2D)               (None, 128, 128, 16) 2320        dropout[0][0]                    \n",
            "__________________________________________________________________________________________________\n",
            "max_pooling2d (MaxPooling2D)    (None, 64, 64, 16)   0           conv2d_3[0][0]                   \n",
            "__________________________________________________________________________________________________\n",
            "conv2d_4 (Conv2D)               (None, 64, 64, 32)   4640        max_pooling2d[0][0]              \n",
            "__________________________________________________________________________________________________\n",
            "dropout_1 (Dropout)             (None, 64, 64, 32)   0           conv2d_4[0][0]                   \n",
            "__________________________________________________________________________________________________\n",
            "conv2d_5 (Conv2D)               (None, 64, 64, 32)   9248        dropout_1[0][0]                  \n",
            "__________________________________________________________________________________________________\n",
            "max_pooling2d_1 (MaxPooling2D)  (None, 32, 32, 32)   0           conv2d_5[0][0]                   \n",
            "__________________________________________________________________________________________________\n",
            "conv2d_6 (Conv2D)               (None, 32, 32, 64)   18496       max_pooling2d_1[0][0]            \n",
            "__________________________________________________________________________________________________\n",
            "dropout_2 (Dropout)             (None, 32, 32, 64)   0           conv2d_6[0][0]                   \n",
            "__________________________________________________________________________________________________\n",
            "conv2d_7 (Conv2D)               (None, 32, 32, 64)   36928       dropout_2[0][0]                  \n",
            "__________________________________________________________________________________________________\n",
            "max_pooling2d_2 (MaxPooling2D)  (None, 16, 16, 64)   0           conv2d_7[0][0]                   \n",
            "__________________________________________________________________________________________________\n",
            "conv2d_8 (Conv2D)               (None, 16, 16, 128)  73856       max_pooling2d_2[0][0]            \n",
            "__________________________________________________________________________________________________\n",
            "dropout_3 (Dropout)             (None, 16, 16, 128)  0           conv2d_8[0][0]                   \n",
            "__________________________________________________________________________________________________\n",
            "conv2d_9 (Conv2D)               (None, 16, 16, 128)  147584      dropout_3[0][0]                  \n",
            "__________________________________________________________________________________________________\n",
            "max_pooling2d_3 (MaxPooling2D)  (None, 8, 8, 128)    0           conv2d_9[0][0]                   \n",
            "__________________________________________________________________________________________________\n",
            "conv2d_10 (Conv2D)              (None, 8, 8, 256)    295168      max_pooling2d_3[0][0]            \n",
            "__________________________________________________________________________________________________\n",
            "dropout_4 (Dropout)             (None, 8, 8, 256)    0           conv2d_10[0][0]                  \n",
            "__________________________________________________________________________________________________\n",
            "conv2d_11 (Conv2D)              (None, 8, 8, 256)    590080      dropout_4[0][0]                  \n",
            "__________________________________________________________________________________________________\n",
            "conv2d_transpose (Conv2DTranspo (None, 16, 16, 128)  131200      conv2d_11[0][0]                  \n",
            "__________________________________________________________________________________________________\n",
            "concatenate (Concatenate)       (None, 16, 16, 256)  0           conv2d_transpose[0][0]           \n",
            "                                                                 conv2d_9[0][0]                   \n",
            "__________________________________________________________________________________________________\n",
            "conv2d_12 (Conv2D)              (None, 16, 16, 128)  295040      concatenate[0][0]                \n",
            "__________________________________________________________________________________________________\n",
            "dropout_5 (Dropout)             (None, 16, 16, 128)  0           conv2d_12[0][0]                  \n",
            "__________________________________________________________________________________________________\n",
            "conv2d_13 (Conv2D)              (None, 16, 16, 128)  147584      dropout_5[0][0]                  \n",
            "__________________________________________________________________________________________________\n",
            "conv2d_transpose_1 (Conv2DTrans (None, 32, 32, 64)   32832       conv2d_13[0][0]                  \n",
            "__________________________________________________________________________________________________\n",
            "concatenate_1 (Concatenate)     (None, 32, 32, 128)  0           conv2d_transpose_1[0][0]         \n",
            "                                                                 conv2d_7[0][0]                   \n",
            "__________________________________________________________________________________________________\n",
            "conv2d_14 (Conv2D)              (None, 32, 32, 64)   73792       concatenate_1[0][0]              \n",
            "__________________________________________________________________________________________________\n",
            "dropout_6 (Dropout)             (None, 32, 32, 64)   0           conv2d_14[0][0]                  \n",
            "__________________________________________________________________________________________________\n",
            "conv2d_15 (Conv2D)              (None, 32, 32, 64)   36928       dropout_6[0][0]                  \n",
            "__________________________________________________________________________________________________\n",
            "conv2d_transpose_2 (Conv2DTrans (None, 64, 64, 32)   8224        conv2d_15[0][0]                  \n",
            "__________________________________________________________________________________________________\n",
            "concatenate_2 (Concatenate)     (None, 64, 64, 64)   0           conv2d_transpose_2[0][0]         \n",
            "                                                                 conv2d_5[0][0]                   \n",
            "__________________________________________________________________________________________________\n",
            "conv2d_16 (Conv2D)              (None, 64, 64, 32)   18464       concatenate_2[0][0]              \n",
            "__________________________________________________________________________________________________\n",
            "dropout_7 (Dropout)             (None, 64, 64, 32)   0           conv2d_16[0][0]                  \n",
            "__________________________________________________________________________________________________\n",
            "conv2d_17 (Conv2D)              (None, 64, 64, 32)   9248        dropout_7[0][0]                  \n",
            "__________________________________________________________________________________________________\n",
            "conv2d_transpose_3 (Conv2DTrans (None, 128, 128, 16) 2064        conv2d_17[0][0]                  \n",
            "__________________________________________________________________________________________________\n",
            "concatenate_3 (Concatenate)     (None, 128, 128, 32) 0           conv2d_transpose_3[0][0]         \n",
            "                                                                 conv2d_3[0][0]                   \n",
            "__________________________________________________________________________________________________\n",
            "conv2d_18 (Conv2D)              (None, 128, 128, 16) 4624        concatenate_3[0][0]              \n",
            "__________________________________________________________________________________________________\n",
            "dropout_8 (Dropout)             (None, 128, 128, 16) 0           conv2d_18[0][0]                  \n",
            "__________________________________________________________________________________________________\n",
            "conv2d_19 (Conv2D)              (None, 128, 128, 16) 2320        dropout_8[0][0]                  \n",
            "__________________________________________________________________________________________________\n",
            "conv2d_20 (Conv2D)              (None, 128, 128, 1)  17          conv2d_19[0][0]                  \n",
            "==================================================================================================\n",
            "Total params: 1,941,105\n",
            "Trainable params: 1,941,105\n",
            "Non-trainable params: 0\n",
            "__________________________________________________________________________________________________\n"
          ],
          "name": "stdout"
        }
      ]
    },
    {
      "cell_type": "code",
      "metadata": {
        "colab": {
          "base_uri": "https://localhost:8080/"
        },
        "id": "jO2n5oRHbXJe",
        "outputId": "e6a35837-6b51-475b-a704-b1265223357e"
      },
      "source": [
        "train_gen = DataGen(train_ids, TRAIN_PATH, image_size=image_size, batch_size=batch_size)\n",
        "valid_gen = DataGen(valid_ids, TRAIN_PATH, image_size=image_size, batch_size=batch_size)\n",
        "\n",
        "train_steps = len(train_ids)//batch_size\n",
        "valid_steps = len(valid_ids)//batch_size\n",
        "\n",
        "model.fit_generator(train_gen, validation_data=valid_gen, steps_per_epoch=train_steps, validation_steps=valid_steps, \n",
        "                    epochs=epochs)"
      ],
      "execution_count": 18,
      "outputs": [
        {
          "output_type": "stream",
          "text": [
            "/usr/local/lib/python3.7/dist-packages/tensorflow/python/keras/engine/training.py:1940: UserWarning: `Model.fit_generator` is deprecated and will be removed in a future version. Please use `Model.fit`, which supports generators.\n",
            "  warnings.warn('`Model.fit_generator` is deprecated and '\n"
          ],
          "name": "stderr"
        },
        {
          "output_type": "stream",
          "text": [
            "Epoch 1/5\n",
            "82/82 [==============================] - 3523s 42s/step - loss: 0.5061 - accuracy: 0.8159 - val_loss: 0.3036 - val_accuracy: 0.8386\n",
            "Epoch 2/5\n",
            "82/82 [==============================] - 1604s 20s/step - loss: 0.2066 - accuracy: 0.8975 - val_loss: 0.3767 - val_accuracy: 0.8204\n",
            "Epoch 3/5\n",
            "82/82 [==============================] - 921s 11s/step - loss: 0.1450 - accuracy: 0.9303 - val_loss: 0.2936 - val_accuracy: 0.8541\n",
            "Epoch 4/5\n",
            "82/82 [==============================] - 503s 6s/step - loss: 0.1097 - accuracy: 0.9429 - val_loss: 0.3137 - val_accuracy: 0.8439\n",
            "Epoch 5/5\n",
            "82/82 [==============================] - 198s 2s/step - loss: 0.1092 - accuracy: 0.9421 - val_loss: 0.2647 - val_accuracy: 0.8674\n"
          ],
          "name": "stdout"
        },
        {
          "output_type": "execute_result",
          "data": {
            "text/plain": [
              "<tensorflow.python.keras.callbacks.History at 0x7fe03041add0>"
            ]
          },
          "metadata": {
            "tags": []
          },
          "execution_count": 18
        }
      ]
    },
    {
      "cell_type": "code",
      "metadata": {
        "id": "bLEit9x13ljt"
      },
      "source": [
        "model.save_weights(\"/content/drive/MyDrive/DeepLearning_Models/UNET /UNetW.h5\")"
      ],
      "execution_count": 19,
      "outputs": []
    },
    {
      "cell_type": "code",
      "metadata": {
        "id": "dCCYRFEwrw6z"
      },
      "source": [
        "x, y = valid_gen.__getitem__(1)\n",
        "result = model.predict(x)\n",
        "\n",
        "result = result > 0.5"
      ],
      "execution_count": 20,
      "outputs": []
    },
    {
      "cell_type": "code",
      "metadata": {
        "id": "B12JarFL3vOu"
      },
      "source": [
        "import matplotlib.pyplot as plt"
      ],
      "execution_count": 22,
      "outputs": []
    },
    {
      "cell_type": "code",
      "metadata": {
        "colab": {
          "base_uri": "https://localhost:8080/",
          "height": 209
        },
        "id": "P17yTFVepVH0",
        "outputId": "f36b01ed-174c-43eb-fab9-1af9d9d2f212"
      },
      "source": [
        "fig = plt.figure()\n",
        "fig.subplots_adjust(hspace=0.4, wspace=0.4)\n",
        "\n",
        "ax = fig.add_subplot(1, 2, 1)\n",
        "ax.imshow(np.reshape(y[0]*255, (image_size, image_size)), cmap=\"gray\")\n",
        "\n",
        "ax = fig.add_subplot(1, 2, 2)\n",
        "ax.imshow(np.reshape(result[0]*255, (image_size, image_size)), cmap=\"gray\")"
      ],
      "execution_count": 23,
      "outputs": [
        {
          "output_type": "execute_result",
          "data": {
            "text/plain": [
              "<matplotlib.image.AxesImage at 0x7fdfe86a8890>"
            ]
          },
          "metadata": {
            "tags": []
          },
          "execution_count": 23
        },
        {
          "output_type": "display_data",
          "data": {
            "image/png": "[encoded data removed]",
            "text/plain": [
              "<Figure size 432x288 with 2 Axes>"
            ]
          },
          "metadata": {
            "tags": [],
            "needs_background": "light"
          }
        }
      ]
    },
    {
      "cell_type": "code",
      "metadata": {
        "id": "YK0zWwnB3uI2"
      },
      "source": [
        ""
      ],
      "execution_count": null,
      "outputs": []
    }
  ]
}